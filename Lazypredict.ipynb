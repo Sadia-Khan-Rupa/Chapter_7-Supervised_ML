{
  "cells": [
    {
      "cell_type": "markdown",
      "metadata": {
        "id": "g-18uIuEhXcs"
      },
      "source": [
        "# LazyPredict"
      ]
    },
    {
      "cell_type": "code",
      "execution_count": 1,
      "metadata": {
        "id": "H5pHw3BIkAUV"
      },
      "outputs": [],
      "source": [
        "import pandas as pd\n",
        "import seaborn as sns\n",
        "import matplotlib.pyplot as plt\n",
        "from sklearn.model_selection import train_test_split\n",
        "from sklearn.compose import ColumnTransformer\n",
        "from sklearn.preprocessing import OrdinalEncoder, StandardScaler\n",
        "from sklearn.pipeline import make_pipeline\n",
        "from sklearn.tree import DecisionTreeRegressor\n",
        "from sklearn.linear_model import LinearRegression, SGDRegressor"
      ]
    },
    {
      "cell_type": "code",
      "execution_count": 4,
      "metadata": {
        "colab": {
          "base_uri": "https://localhost:8080/"
        },
        "id": "ny0fS2TI8a5O",
        "outputId": "9f09e0d6-40b7-4f7f-a11e-942d56a8515c"
      },
      "outputs": [
        {
          "name": "stdout",
          "output_type": "stream",
          "text": [
            "Collecting lazypredict\n",
            "  Obtaining dependency information for lazypredict from https://files.pythonhosted.org/packages/bb/df/936639581c018ac59b1096d34e42d39e967d97bf09b1fdb1645e64852e36/lazypredict-0.2.12-py2.py3-none-any.whl.metadata\n",
            "  Using cached lazypredict-0.2.12-py2.py3-none-any.whl.metadata (12 kB)\n",
            "Requirement already satisfied: click in /Users/sadiakhanrupa/anaconda3/lib/python3.11/site-packages (from lazypredict) (8.0.4)\n",
            "Requirement already satisfied: scikit-learn in /Users/sadiakhanrupa/anaconda3/lib/python3.11/site-packages (from lazypredict) (1.3.0)\n",
            "Requirement already satisfied: pandas in /Users/sadiakhanrupa/anaconda3/lib/python3.11/site-packages (from lazypredict) (2.0.3)\n",
            "Requirement already satisfied: tqdm in /Users/sadiakhanrupa/anaconda3/lib/python3.11/site-packages (from lazypredict) (4.65.0)\n",
            "Requirement already satisfied: joblib in /Users/sadiakhanrupa/anaconda3/lib/python3.11/site-packages (from lazypredict) (1.2.0)\n",
            "Collecting lightgbm (from lazypredict)\n",
            "  Using cached lightgbm-4.3.0.tar.gz (1.7 MB)\n",
            "  Installing build dependencies ... \u001b[?25ldone\n",
            "\u001b[?25h  Getting requirements to build wheel ... \u001b[?25ldone\n",
            "\u001b[?25h  Installing backend dependencies ... \u001b[?25ldone\n",
            "\u001b[?25h  Preparing metadata (pyproject.toml) ... \u001b[?25ldone\n",
            "\u001b[?25hCollecting xgboost (from lazypredict)\n",
            "  Obtaining dependency information for xgboost from https://files.pythonhosted.org/packages/03/e6/4aef6799badc2693548559bad5b56d56cfe89eada337c815fdfe92175250/xgboost-2.0.3-py3-none-macosx_12_0_arm64.whl.metadata\n",
            "  Using cached xgboost-2.0.3-py3-none-macosx_12_0_arm64.whl.metadata (2.0 kB)\n",
            "Requirement already satisfied: numpy in /Users/sadiakhanrupa/anaconda3/lib/python3.11/site-packages (from lightgbm->lazypredict) (1.24.3)\n",
            "Requirement already satisfied: scipy in /Users/sadiakhanrupa/anaconda3/lib/python3.11/site-packages (from lightgbm->lazypredict) (1.11.1)\n",
            "Requirement already satisfied: python-dateutil>=2.8.2 in /Users/sadiakhanrupa/anaconda3/lib/python3.11/site-packages (from pandas->lazypredict) (2.8.2)\n",
            "Requirement already satisfied: pytz>=2020.1 in /Users/sadiakhanrupa/anaconda3/lib/python3.11/site-packages (from pandas->lazypredict) (2023.3.post1)\n",
            "Requirement already satisfied: tzdata>=2022.1 in /Users/sadiakhanrupa/anaconda3/lib/python3.11/site-packages (from pandas->lazypredict) (2023.3)\n",
            "Requirement already satisfied: threadpoolctl>=2.0.0 in /Users/sadiakhanrupa/anaconda3/lib/python3.11/site-packages (from scikit-learn->lazypredict) (2.2.0)\n",
            "Requirement already satisfied: six>=1.5 in /Users/sadiakhanrupa/anaconda3/lib/python3.11/site-packages (from python-dateutil>=2.8.2->pandas->lazypredict) (1.16.0)\n",
            "Using cached lazypredict-0.2.12-py2.py3-none-any.whl (12 kB)\n",
            "Using cached xgboost-2.0.3-py3-none-macosx_12_0_arm64.whl (1.9 MB)\n",
            "Building wheels for collected packages: lightgbm\n",
            "  Building wheel for lightgbm (pyproject.toml) ... \u001b[?25lerror\n",
            "  \u001b[1;31merror\u001b[0m: \u001b[1msubprocess-exited-with-error\u001b[0m\n",
            "  \n",
            "  \u001b[31m×\u001b[0m \u001b[32mBuilding wheel for lightgbm \u001b[0m\u001b[1;32m(\u001b[0m\u001b[32mpyproject.toml\u001b[0m\u001b[1;32m)\u001b[0m did not run successfully.\n",
            "  \u001b[31m│\u001b[0m exit code: \u001b[1;36m1\u001b[0m\n",
            "  \u001b[31m╰─>\u001b[0m \u001b[31m[42 lines of output]\u001b[0m\n",
            "  \u001b[31m   \u001b[0m 2024-04-05 14:57:57,601 - scikit_build_core - INFO - RUN: /private/var/folders/yn/jzzqv3s17t5_glr9g2gqxmyh0000gn/T/pip-build-env-gpbt9kgq/normal/lib/python3.11/site-packages/cmake/data/bin/cmake --version\n",
            "  \u001b[31m   \u001b[0m 2024-04-05 14:57:57,607 - scikit_build_core - INFO - CMake version: 3.29.0\n",
            "  \u001b[31m   \u001b[0m \u001b[92m***\u001b[0m \u001b[1m\u001b[92mscikit-build-core 0.8.2\u001b[0m using \u001b[94mCMake 3.29.0\u001b[0m \u001b[91m(wheel)\u001b[0m\u001b[0m\n",
            "  \u001b[31m   \u001b[0m 2024-04-05 14:57:57,609 - scikit_build_core - INFO - Build directory: /private/var/folders/yn/jzzqv3s17t5_glr9g2gqxmyh0000gn/T/tmp3v4gs2md/build\n",
            "  \u001b[31m   \u001b[0m \u001b[92m***\u001b[0m \u001b[1mConfiguring CMake...\u001b[0m\n",
            "  \u001b[31m   \u001b[0m 2024-04-05 14:57:57,618 - scikit_build_core - INFO - RUN: /private/var/folders/yn/jzzqv3s17t5_glr9g2gqxmyh0000gn/T/pip-build-env-gpbt9kgq/normal/lib/python3.11/site-packages/ninja/data/bin/ninja --version\n",
            "  \u001b[31m   \u001b[0m 2024-04-05 14:57:57,699 - scikit_build_core - INFO - Ninja version: 1.11.1\n",
            "  \u001b[31m   \u001b[0m 2024-04-05 14:57:57,700 - scikit_build_core - WARNING - libdir/ldlibrary: /Users/sadiakhanrupa/anaconda3/lib/libpython3.11.a is not a real file!\n",
            "  \u001b[31m   \u001b[0m 2024-04-05 14:57:57,700 - scikit_build_core - WARNING - Can't find a Python library, got libdir=/Users/sadiakhanrupa/anaconda3/lib, ldlibrary=libpython3.11.a, multiarch=darwin, masd=None\n",
            "  \u001b[31m   \u001b[0m 2024-04-05 14:57:57,701 - scikit_build_core - INFO - RUN: /private/var/folders/yn/jzzqv3s17t5_glr9g2gqxmyh0000gn/T/pip-build-env-gpbt9kgq/normal/lib/python3.11/site-packages/cmake/data/bin/cmake -S. -B/var/folders/yn/jzzqv3s17t5_glr9g2gqxmyh0000gn/T/tmp3v4gs2md/build -DCMAKE_BUILD_TYPE:STRING=Release -C/var/folders/yn/jzzqv3s17t5_glr9g2gqxmyh0000gn/T/tmp3v4gs2md/build/CMakeInit.txt -DCMAKE_MAKE_PROGRAM=/private/var/folders/yn/jzzqv3s17t5_glr9g2gqxmyh0000gn/T/pip-build-env-gpbt9kgq/normal/lib/python3.11/site-packages/ninja/data/bin/ninja -D__BUILD_FOR_PYTHON:BOOL=ON\n",
            "  \u001b[31m   \u001b[0m loading initial cache file /var/folders/yn/jzzqv3s17t5_glr9g2gqxmyh0000gn/T/tmp3v4gs2md/build/CMakeInit.txt\n",
            "  \u001b[31m   \u001b[0m -- The C compiler identification is AppleClang 15.0.0.15000100\n",
            "  \u001b[31m   \u001b[0m -- The CXX compiler identification is AppleClang 15.0.0.15000100\n",
            "  \u001b[31m   \u001b[0m -- Detecting C compiler ABI info\n",
            "  \u001b[31m   \u001b[0m -- Detecting C compiler ABI info - done\n",
            "  \u001b[31m   \u001b[0m -- Check for working C compiler: /Library/Developer/CommandLineTools/usr/bin/cc - skipped\n",
            "  \u001b[31m   \u001b[0m -- Detecting C compile features\n",
            "  \u001b[31m   \u001b[0m -- Detecting C compile features - done\n",
            "  \u001b[31m   \u001b[0m -- Detecting CXX compiler ABI info\n",
            "  \u001b[31m   \u001b[0m -- Detecting CXX compiler ABI info - done\n",
            "  \u001b[31m   \u001b[0m -- Check for working CXX compiler: /Library/Developer/CommandLineTools/usr/bin/c++ - skipped\n",
            "  \u001b[31m   \u001b[0m -- Detecting CXX compile features\n",
            "  \u001b[31m   \u001b[0m -- Detecting CXX compile features - done\n",
            "  \u001b[31m   \u001b[0m -- Could NOT find OpenMP_C (missing: OpenMP_C_FLAGS OpenMP_C_LIB_NAMES)\n",
            "  \u001b[31m   \u001b[0m -- Could NOT find OpenMP_CXX (missing: OpenMP_CXX_FLAGS OpenMP_CXX_LIB_NAMES)\n",
            "  \u001b[31m   \u001b[0m -- Could NOT find OpenMP (missing: OpenMP_C_FOUND OpenMP_CXX_FOUND)\n",
            "  \u001b[31m   \u001b[0m -- Found OpenMP_C: -Xpreprocessor -fopenmp -I/include\n",
            "  \u001b[31m   \u001b[0m -- Found OpenMP_CXX: -Xpreprocessor -fopenmp -I/include\n",
            "  \u001b[31m   \u001b[0m -- Found OpenMP: TRUE\n",
            "  \u001b[31m   \u001b[0m -- Performing Test MM_PREFETCH\n",
            "  \u001b[31m   \u001b[0m -- Performing Test MM_PREFETCH - Failed\n",
            "  \u001b[31m   \u001b[0m -- Performing Test MM_MALLOC\n",
            "  \u001b[31m   \u001b[0m -- Performing Test MM_MALLOC - Success\n",
            "  \u001b[31m   \u001b[0m -- Using _mm_malloc\n",
            "  \u001b[31m   \u001b[0m -- Configuring done (0.8s)\n",
            "  \u001b[31m   \u001b[0m -- Generating done (0.0s)\n",
            "  \u001b[31m   \u001b[0m -- Build files have been written to: /var/folders/yn/jzzqv3s17t5_glr9g2gqxmyh0000gn/T/tmp3v4gs2md/build\n",
            "  \u001b[31m   \u001b[0m \u001b[92m***\u001b[0m \u001b[1mBuilding project with \u001b[94mNinja\u001b[0m...\u001b[0m\n",
            "  \u001b[31m   \u001b[0m 2024-04-05 14:57:58,553 - scikit_build_core - INFO - RUN: /private/var/folders/yn/jzzqv3s17t5_glr9g2gqxmyh0000gn/T/pip-build-env-gpbt9kgq/normal/lib/python3.11/site-packages/cmake/data/bin/cmake --build /var/folders/yn/jzzqv3s17t5_glr9g2gqxmyh0000gn/T/tmp3v4gs2md/build\n",
            "  \u001b[31m   \u001b[0m ninja: error: '/lib/libomp.dylib', needed by '/private/var/folders/yn/jzzqv3s17t5_glr9g2gqxmyh0000gn/T/pip-install-z4f9ik1j/lightgbm_8ca2c834a1a54d9288a78f3f3fcab241/lib_lightgbm.so', missing and no known rule to make it\n",
            "  \u001b[31m   \u001b[0m \n",
            "  \u001b[31m   \u001b[0m \u001b[91m\u001b[1m*** CMake build failed\u001b[0m\n",
            "  \u001b[31m   \u001b[0m \u001b[31m[end of output]\u001b[0m\n",
            "  \n",
            "  \u001b[1;35mnote\u001b[0m: This error originates from a subprocess, and is likely not a problem with pip.\n",
            "\u001b[?25h\u001b[31m  ERROR: Failed building wheel for lightgbm\u001b[0m\u001b[31m\n",
            "\u001b[0mFailed to build lightgbm\n",
            "\u001b[31mERROR: Could not build wheels for lightgbm, which is required to install pyproject.toml-based projects\u001b[0m\u001b[31m\n",
            "\u001b[0m"
          ]
        }
      ],
      "source": [
        "!pip install lazypredict\n"
      ]
    },
    {
      "cell_type": "code",
      "execution_count": 5,
      "metadata": {
        "id": "TGyMHbQF--G1"
      },
      "outputs": [
        {
          "ename": "ModuleNotFoundError",
          "evalue": "No module named 'lazypredict'",
          "output_type": "error",
          "traceback": [
            "\u001b[0;31m---------------------------------------------------------------------------\u001b[0m",
            "\u001b[0;31mModuleNotFoundError\u001b[0m                       Traceback (most recent call last)",
            "Cell \u001b[0;32mIn[5], line 1\u001b[0m\n\u001b[0;32m----> 1\u001b[0m \u001b[38;5;28;01mfrom\u001b[39;00m \u001b[38;5;21;01mlazypredict\u001b[39;00m\u001b[38;5;21;01m.\u001b[39;00m\u001b[38;5;21;01mSupervised\u001b[39;00m \u001b[38;5;28;01mimport\u001b[39;00m LazyRegressor\n",
            "\u001b[0;31mModuleNotFoundError\u001b[0m: No module named 'lazypredict'"
          ]
        }
      ],
      "source": [
        "from lazypredict.Supervised import LazyRegressor"
      ]
    },
    {
      "cell_type": "code",
      "execution_count": 5,
      "metadata": {
        "id": "188E_Hroi8B7"
      },
      "outputs": [],
      "source": [
        "diamonds = sns.load_dataset('diamonds')"
      ]
    },
    {
      "cell_type": "code",
      "execution_count": 6,
      "metadata": {
        "id": "Z7rb9RRd-uc8"
      },
      "outputs": [],
      "source": [
        "X = diamonds.copy()\n",
        "y = X.pop('price')\n",
        "\n",
        "X_train, X_test, y_train, y_test = train_test_split(X, y, test_size=0.2, random_state=42)"
      ]
    },
    {
      "cell_type": "code",
      "execution_count": 7,
      "metadata": {
        "id": "aosEnFlo8wvp"
      },
      "outputs": [],
      "source": [
        "X_cat = X_train.select_dtypes(exclude = 'number').columns\n",
        "X_num = X_train.select_dtypes(include = 'number').columns\n",
        "\n",
        "cut = ['Fair', 'Good', 'Very Good', 'Premium', 'Ideal']\n",
        "color = ['D','E','F','G','H','I','J']\n",
        "clarity = ['I1', 'SI2', 'SI1', 'VS2', 'VS1', 'VVS2', 'VVS1', 'IF']\n",
        "\n",
        "preprocessor = ColumnTransformer(transformers=[\n",
        "    ('category', OrdinalEncoder(categories=[cut, color, clarity]), X_cat),\n",
        "    ('number', \"passthrough\", X_num)\n",
        "])"
      ]
    },
    {
      "cell_type": "code",
      "execution_count": null,
      "metadata": {
        "colab": {
          "base_uri": "https://localhost:8080/"
        },
        "id": "RCp7k4Ic8Zx-",
        "outputId": "8685a0b2-c683-44bb-fe15-73a66df29e5c"
      },
      "outputs": [
        {
          "name": "stderr",
          "output_type": "stream",
          "text": [
            " 21%|██▏       | 9/42 [00:14<01:27,  2.64s/it]"
          ]
        }
      ],
      "source": [
        "# Initialize LazyRegressor\n",
        "lazy_regressor = LazyRegressor(predictions=True, verbose=0, ignore_warnings=True)\n",
        "\n",
        "# Fit LazyRegressor to the training data\n",
        "lazy_regressor.fit(X_train, X_test, y_train, y_test)\n",
        "\n",
        "# Print the model performance\n",
        "print(lazy_regressor.summary())\n"
      ]
    }
  ],
  "metadata": {
    "colab": {
      "provenance": [],
      "toc_visible": true
    },
    "kernelspec": {
      "display_name": "Python 3 (ipykernel)",
      "language": "python",
      "name": "python3"
    },
    "language_info": {
      "codemirror_mode": {
        "name": "ipython",
        "version": 3
      },
      "file_extension": ".py",
      "mimetype": "text/x-python",
      "name": "python",
      "nbconvert_exporter": "python",
      "pygments_lexer": "ipython3",
      "version": "3.11.5"
    }
  },
  "nbformat": 4,
  "nbformat_minor": 0
}
